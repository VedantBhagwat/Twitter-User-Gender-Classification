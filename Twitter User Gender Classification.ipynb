{
 "cells": [
  {
   "cell_type": "markdown",
   "metadata": {},
   "source": [
    "# Description"
   ]
  },
  {
   "cell_type": "code",
   "execution_count": 1,
   "metadata": {},
   "outputs": [],
   "source": [
    "# This data set was used to train a CrowdFlower AI gender predictor. \n",
    "# Contributors were asked to simply view a Twitter profile and judge whether \n",
    "# the user was a male, a female, or a brand (non-individual). The dataset contains 20,000 rows, each with a user name, \n",
    "# a random tweet, account profile and image, location, and even link and sidebar color.\n",
    "# https://www.kaggle.com/crowdflower/twitter-user-gender-classification/\n",
    "\n",
    "\n",
    "######### Data #########\n",
    "# The dataset contains the following fields:\n",
    "\n",
    "# unitid: a unique id for user\n",
    "# _golden: whether the user was included in the gold standard for the model; TRUE or FALSE\n",
    "# unitstate: state of the observation; one of finalized (for contributor-judged) or golden (for gold standard observations)\n",
    "# trustedjudgments: number of trusted judgments (int); always 3 for non-golden, and what may be a unique id for gold standard observations\n",
    "# lastjudgment_at: date and time of last contributor judgment; blank for gold standard observations\n",
    "# gender: one of male, female, or brand (for non-human profiles)\n",
    "# gender:confidence: a float representing confidence in the provided gender\n",
    "# profile_yn: \"no\" here seems to mean that the profile was meant to be part of the dataset but was not available when contributors went to judge it\n",
    "# profile_yn:confidence: confidence in the existence/non-existence of the profile\n",
    "# created: date and time when the profile was created\n",
    "# description: the user's profile description\n",
    "# fav_number: number of tweets the user has favorited\n",
    "# gender_gold: if the profile is golden, what is the gender?\n",
    "# link_color: the link color on the profile, as a hex value\n",
    "# name: the user's name\n",
    "# profileyngold: whether the profile y/n value is golden\n",
    "# profileimage: a link to the profile image\n",
    "# retweet_count: number of times the user has retweeted (or possibly, been retweeted)\n",
    "# sidebar_color: color of the profile sidebar, as a hex value\n",
    "# text: text of a random one of the user's tweets\n",
    "# tweet_coord: if the user has location turned on, the coordinates as a string with the format \"[latitude, longitude]\"\n",
    "# tweet_count: number of tweets that the user has posted\n",
    "# tweet_created: when the random tweet (in the text column) was created\n",
    "# tweet_id: the tweet id of the random tweet\n",
    "# tweet_location: location of the tweet; seems to not be particularly normalized\n",
    "# user_timezone: the timezone of the user"
   ]
  },
  {
   "cell_type": "markdown",
   "metadata": {},
   "source": [
    "# Importing libraries"
   ]
  },
  {
   "cell_type": "code",
   "execution_count": 1,
   "metadata": {},
   "outputs": [
    {
     "name": "stderr",
     "output_type": "stream",
     "text": [
      "[nltk_data] Downloading package punkt to\n",
      "[nltk_data]     C:\\Users\\vedan\\AppData\\Roaming\\nltk_data...\n",
      "[nltk_data]   Package punkt is already up-to-date!\n",
      "[nltk_data] Downloading package wordnet to\n",
      "[nltk_data]     C:\\Users\\vedan\\AppData\\Roaming\\nltk_data...\n",
      "[nltk_data]   Package wordnet is already up-to-date!\n"
     ]
    }
   ],
   "source": [
    "import numpy as np \n",
    "import pandas as pd\n",
    "import nltk \n",
    "nltk.download('punkt')\n",
    "nltk.download('wordnet')\n",
    "import re\n",
    "from sklearn.feature_extraction.text import CountVectorizer\n",
    "from sklearn.model_selection import train_test_split\n",
    "import seaborn as sns"
   ]
  },
  {
   "cell_type": "code",
   "execution_count": 2,
   "metadata": {},
   "outputs": [],
   "source": [
    "# Read a comma-separated values (csv) file into DataFrame.\n",
    "twitter_data = pd.read_csv('./Data/gender-classifier-DFE-791531.csv',encoding='latin1')"
   ]
  },
  {
   "cell_type": "markdown",
   "metadata": {},
   "source": [
    "# EDA"
   ]
  },
  {
   "cell_type": "code",
   "execution_count": 4,
   "metadata": {},
   "outputs": [
    {
     "data": {
      "text/plain": [
       "(20050, 26)"
      ]
     },
     "execution_count": 4,
     "metadata": {},
     "output_type": "execute_result"
    }
   ],
   "source": [
    "#  Check the dimensionality of the DataFrame\n",
    "twitter_data.shape"
   ]
  },
  {
   "cell_type": "code",
   "execution_count": 5,
   "metadata": {},
   "outputs": [
    {
     "data": {
      "text/plain": [
       "_unit_id                   int64\n",
       "_golden                     bool\n",
       "_unit_state               object\n",
       "_trusted_judgments         int64\n",
       "_last_judgment_at         object\n",
       "gender                    object\n",
       "gender:confidence        float64\n",
       "profile_yn                object\n",
       "profile_yn:confidence    float64\n",
       "created                   object\n",
       "description               object\n",
       "fav_number                 int64\n",
       "gender_gold               object\n",
       "link_color                object\n",
       "name                      object\n",
       "profile_yn_gold           object\n",
       "profileimage              object\n",
       "retweet_count              int64\n",
       "sidebar_color             object\n",
       "text                      object\n",
       "tweet_coord               object\n",
       "tweet_count                int64\n",
       "tweet_created             object\n",
       "tweet_id                 float64\n",
       "tweet_location            object\n",
       "user_timezone             object\n",
       "dtype: object"
      ]
     },
     "execution_count": 5,
     "metadata": {},
     "output_type": "execute_result"
    }
   ],
   "source": [
    "twitter_data.dtypes"
   ]
  },
  {
   "cell_type": "code",
   "execution_count": 6,
   "metadata": {},
   "outputs": [
    {
     "data": {
      "text/html": [
       "<div>\n",
       "<style scoped>\n",
       "    .dataframe tbody tr th:only-of-type {\n",
       "        vertical-align: middle;\n",
       "    }\n",
       "\n",
       "    .dataframe tbody tr th {\n",
       "        vertical-align: top;\n",
       "    }\n",
       "\n",
       "    .dataframe thead th {\n",
       "        text-align: right;\n",
       "    }\n",
       "</style>\n",
       "<table border=\"1\" class=\"dataframe\">\n",
       "  <thead>\n",
       "    <tr style=\"text-align: right;\">\n",
       "      <th></th>\n",
       "      <th>_unit_id</th>\n",
       "      <th>_trusted_judgments</th>\n",
       "      <th>gender:confidence</th>\n",
       "      <th>profile_yn:confidence</th>\n",
       "      <th>fav_number</th>\n",
       "      <th>retweet_count</th>\n",
       "      <th>tweet_count</th>\n",
       "      <th>tweet_id</th>\n",
       "    </tr>\n",
       "  </thead>\n",
       "  <tbody>\n",
       "    <tr>\n",
       "      <th>count</th>\n",
       "      <td>2.005000e+04</td>\n",
       "      <td>20050.000000</td>\n",
       "      <td>20024.000000</td>\n",
       "      <td>20050.000000</td>\n",
       "      <td>20050.000000</td>\n",
       "      <td>20050.000000</td>\n",
       "      <td>2.005000e+04</td>\n",
       "      <td>2.005000e+04</td>\n",
       "    </tr>\n",
       "    <tr>\n",
       "      <th>mean</th>\n",
       "      <td>8.157294e+08</td>\n",
       "      <td>3.615711</td>\n",
       "      <td>0.882756</td>\n",
       "      <td>0.993221</td>\n",
       "      <td>4382.201646</td>\n",
       "      <td>0.079401</td>\n",
       "      <td>3.892469e+04</td>\n",
       "      <td>6.587350e+17</td>\n",
       "    </tr>\n",
       "    <tr>\n",
       "      <th>std</th>\n",
       "      <td>6.000801e+03</td>\n",
       "      <td>12.331890</td>\n",
       "      <td>0.191403</td>\n",
       "      <td>0.047168</td>\n",
       "      <td>12518.575919</td>\n",
       "      <td>2.649751</td>\n",
       "      <td>1.168371e+05</td>\n",
       "      <td>5.000124e+12</td>\n",
       "    </tr>\n",
       "    <tr>\n",
       "      <th>min</th>\n",
       "      <td>8.157192e+08</td>\n",
       "      <td>3.000000</td>\n",
       "      <td>0.000000</td>\n",
       "      <td>0.627200</td>\n",
       "      <td>0.000000</td>\n",
       "      <td>0.000000</td>\n",
       "      <td>1.000000e+00</td>\n",
       "      <td>6.587300e+17</td>\n",
       "    </tr>\n",
       "    <tr>\n",
       "      <th>25%</th>\n",
       "      <td>8.157243e+08</td>\n",
       "      <td>3.000000</td>\n",
       "      <td>0.677800</td>\n",
       "      <td>1.000000</td>\n",
       "      <td>11.000000</td>\n",
       "      <td>0.000000</td>\n",
       "      <td>2.398000e+03</td>\n",
       "      <td>6.587300e+17</td>\n",
       "    </tr>\n",
       "    <tr>\n",
       "      <th>50%</th>\n",
       "      <td>8.157294e+08</td>\n",
       "      <td>3.000000</td>\n",
       "      <td>1.000000</td>\n",
       "      <td>1.000000</td>\n",
       "      <td>456.000000</td>\n",
       "      <td>0.000000</td>\n",
       "      <td>1.144150e+04</td>\n",
       "      <td>6.587300e+17</td>\n",
       "    </tr>\n",
       "    <tr>\n",
       "      <th>75%</th>\n",
       "      <td>8.157345e+08</td>\n",
       "      <td>3.000000</td>\n",
       "      <td>1.000000</td>\n",
       "      <td>1.000000</td>\n",
       "      <td>3315.500000</td>\n",
       "      <td>0.000000</td>\n",
       "      <td>4.002750e+04</td>\n",
       "      <td>6.587400e+17</td>\n",
       "    </tr>\n",
       "    <tr>\n",
       "      <th>max</th>\n",
       "      <td>8.157580e+08</td>\n",
       "      <td>274.000000</td>\n",
       "      <td>1.000000</td>\n",
       "      <td>1.000000</td>\n",
       "      <td>341621.000000</td>\n",
       "      <td>330.000000</td>\n",
       "      <td>2.680199e+06</td>\n",
       "      <td>6.587400e+17</td>\n",
       "    </tr>\n",
       "  </tbody>\n",
       "</table>\n",
       "</div>"
      ],
      "text/plain": [
       "           _unit_id  _trusted_judgments  gender:confidence  \\\n",
       "count  2.005000e+04        20050.000000       20024.000000   \n",
       "mean   8.157294e+08            3.615711           0.882756   \n",
       "std    6.000801e+03           12.331890           0.191403   \n",
       "min    8.157192e+08            3.000000           0.000000   \n",
       "25%    8.157243e+08            3.000000           0.677800   \n",
       "50%    8.157294e+08            3.000000           1.000000   \n",
       "75%    8.157345e+08            3.000000           1.000000   \n",
       "max    8.157580e+08          274.000000           1.000000   \n",
       "\n",
       "       profile_yn:confidence     fav_number  retweet_count   tweet_count  \\\n",
       "count           20050.000000   20050.000000   20050.000000  2.005000e+04   \n",
       "mean                0.993221    4382.201646       0.079401  3.892469e+04   \n",
       "std                 0.047168   12518.575919       2.649751  1.168371e+05   \n",
       "min                 0.627200       0.000000       0.000000  1.000000e+00   \n",
       "25%                 1.000000      11.000000       0.000000  2.398000e+03   \n",
       "50%                 1.000000     456.000000       0.000000  1.144150e+04   \n",
       "75%                 1.000000    3315.500000       0.000000  4.002750e+04   \n",
       "max                 1.000000  341621.000000     330.000000  2.680199e+06   \n",
       "\n",
       "           tweet_id  \n",
       "count  2.005000e+04  \n",
       "mean   6.587350e+17  \n",
       "std    5.000124e+12  \n",
       "min    6.587300e+17  \n",
       "25%    6.587300e+17  \n",
       "50%    6.587300e+17  \n",
       "75%    6.587400e+17  \n",
       "max    6.587400e+17  "
      ]
     },
     "execution_count": 6,
     "metadata": {},
     "output_type": "execute_result"
    }
   ],
   "source": [
    "# Generate descriptive statistics\n",
    "twitter_data.describe()"
   ]
  },
  {
   "cell_type": "code",
   "execution_count": 7,
   "metadata": {},
   "outputs": [
    {
     "data": {
      "text/plain": [
       "_unit_id                     0\n",
       "_golden                      0\n",
       "_unit_state                  0\n",
       "_trusted_judgments           0\n",
       "_last_judgment_at           50\n",
       "gender                      97\n",
       "gender:confidence           26\n",
       "profile_yn                   0\n",
       "profile_yn:confidence        0\n",
       "created                      0\n",
       "description               3744\n",
       "fav_number                   0\n",
       "gender_gold              20000\n",
       "link_color                   0\n",
       "name                         0\n",
       "profile_yn_gold          20000\n",
       "profileimage                 0\n",
       "retweet_count                0\n",
       "sidebar_color                0\n",
       "text                         0\n",
       "tweet_coord              19891\n",
       "tweet_count                  0\n",
       "tweet_created                0\n",
       "tweet_id                     0\n",
       "tweet_location            7484\n",
       "user_timezone             7798\n",
       "dtype: int64"
      ]
     },
     "execution_count": 7,
     "metadata": {},
     "output_type": "execute_result"
    }
   ],
   "source": [
    "# Check count of missing values\n",
    "twitter_data.isnull().sum()"
   ]
  },
  {
   "cell_type": "code",
   "execution_count": 3,
   "metadata": {},
   "outputs": [
    {
     "data": {
      "text/plain": [
       "151386     30\n",
       "1          26\n",
       "2372591    24\n",
       "3          24\n",
       "2          21\n",
       "           ..\n",
       "57126       1\n",
       "15103       1\n",
       "13054       1\n",
       "4858        1\n",
       "100353      1\n",
       "Name: tweet_count, Length: 14280, dtype: int64"
      ]
     },
     "execution_count": 3,
     "metadata": {},
     "output_type": "execute_result"
    }
   ],
   "source": [
    "# Count of tweet_count including NA values\n",
    "twitter_data['tweet_count'].value_counts(dropna=False) "
   ]
  },
  {
   "cell_type": "code",
   "execution_count": 9,
   "metadata": {},
   "outputs": [
    {
     "data": {
      "text/plain": [
       "<matplotlib.axes._subplots.AxesSubplot at 0x18d3b0ca988>"
      ]
     },
     "execution_count": 9,
     "metadata": {},
     "output_type": "execute_result"
    },
    {
     "data": {
      "image/png": "[encoded data removed]",
      "text/plain": [
       "<Figure size 432x288 with 1 Axes>"
      ]
     },
     "metadata": {
      "needs_background": "light"
     },
     "output_type": "display_data"
    }
   ],
   "source": [
    "# Barplot of gender and tweet_count\n",
    "sns.barplot(x='gender', y='tweet_count', data=twitter_data)"
   ]
  },
  {
   "cell_type": "code",
   "execution_count": 10,
   "metadata": {},
   "outputs": [
    {
     "data": {
      "text/plain": [
       "19953"
      ]
     },
     "execution_count": 10,
     "metadata": {},
     "output_type": "execute_result"
    }
   ],
   "source": [
    "twitter_data['gender'].count()"
   ]
  },
  {
   "cell_type": "code",
   "execution_count": 4,
   "metadata": {},
   "outputs": [
    {
     "data": {
      "text/plain": [
       "female     6700\n",
       "male       6194\n",
       "brand      5942\n",
       "unknown    1117\n",
       "NaN          97\n",
       "Name: gender, dtype: int64"
      ]
     },
     "execution_count": 4,
     "metadata": {},
     "output_type": "execute_result"
    }
   ],
   "source": [
    "# Count of gender including NA values\n",
    "twitter_data['gender'].value_counts(dropna=False) "
   ]
  },
  {
   "cell_type": "markdown",
   "metadata": {},
   "source": [
    "The frequency of gender in each segment is depicted in the bar plot above. There are 6700 females, 6194 males, 5942 brands, 1117 uncertain values, and 97 missing values."
   ]
  },
  {
   "cell_type": "code",
   "execution_count": 5,
   "metadata": {},
   "outputs": [
    {
     "data": {
      "text/plain": [
       "<matplotlib.axes._subplots.AxesSubplot at 0x17fba5c4908>"
      ]
     },
     "execution_count": 5,
     "metadata": {},
     "output_type": "execute_result"
    },
    {
     "data": {
      "image/png": "[encoded data removed]",
      "text/plain": [
       "<Figure size 432x288 with 1 Axes>"
      ]
     },
     "metadata": {
      "needs_background": "light"
     },
     "output_type": "display_data"
    }
   ],
   "source": [
    "# Count plot of gender\n",
    "sns.countplot(twitter_data['gender'], label=\"gender\")"
   ]
  },
  {
   "cell_type": "markdown",
   "metadata": {},
   "source": [
    "# Data Pre-processing"
   ]
  },
  {
   "cell_type": "code",
   "execution_count": 6,
   "metadata": {},
   "outputs": [
    {
     "data": {
      "text/html": [
       "<div>\n",
       "<style scoped>\n",
       "    .dataframe tbody tr th:only-of-type {\n",
       "        vertical-align: middle;\n",
       "    }\n",
       "\n",
       "    .dataframe tbody tr th {\n",
       "        vertical-align: top;\n",
       "    }\n",
       "\n",
       "    .dataframe thead th {\n",
       "        text-align: right;\n",
       "    }\n",
       "</style>\n",
       "<table border=\"1\" class=\"dataframe\">\n",
       "  <thead>\n",
       "    <tr style=\"text-align: right;\">\n",
       "      <th></th>\n",
       "      <th>gender</th>\n",
       "      <th>description</th>\n",
       "    </tr>\n",
       "  </thead>\n",
       "  <tbody>\n",
       "    <tr>\n",
       "      <th>0</th>\n",
       "      <td>male</td>\n",
       "      <td>i sing my own rhythm.</td>\n",
       "    </tr>\n",
       "    <tr>\n",
       "      <th>1</th>\n",
       "      <td>male</td>\n",
       "      <td>I'm the author of novels filled with family dr...</td>\n",
       "    </tr>\n",
       "    <tr>\n",
       "      <th>2</th>\n",
       "      <td>male</td>\n",
       "      <td>louis whining and squealing and all</td>\n",
       "    </tr>\n",
       "    <tr>\n",
       "      <th>3</th>\n",
       "      <td>male</td>\n",
       "      <td>Mobile guy.  49ers, Shazam, Google, Kleiner Pe...</td>\n",
       "    </tr>\n",
       "    <tr>\n",
       "      <th>4</th>\n",
       "      <td>female</td>\n",
       "      <td>Ricky Wilson The Best FRONTMAN/Kaiser Chiefs T...</td>\n",
       "    </tr>\n",
       "  </tbody>\n",
       "</table>\n",
       "</div>"
      ],
      "text/plain": [
       "   gender                                        description\n",
       "0    male                              i sing my own rhythm.\n",
       "1    male  I'm the author of novels filled with family dr...\n",
       "2    male                louis whining and squealing and all\n",
       "3    male  Mobile guy.  49ers, Shazam, Google, Kleiner Pe...\n",
       "4  female  Ricky Wilson The Best FRONTMAN/Kaiser Chiefs T..."
      ]
     },
     "execution_count": 6,
     "metadata": {},
     "output_type": "execute_result"
    }
   ],
   "source": [
    "# Create a new dataframe with gender and description\n",
    "my_data = twitter_data.loc[:,[\"gender\",\"description\"]]\n",
    "my_data.head()"
   ]
  },
  {
   "cell_type": "code",
   "execution_count": 7,
   "metadata": {},
   "outputs": [],
   "source": [
    "# Drop dataFrame with NA entries\n",
    "my_data.dropna(inplace=True)"
   ]
  },
  {
   "cell_type": "code",
   "execution_count": 8,
   "metadata": {},
   "outputs": [
    {
     "data": {
      "text/plain": [
       "16224"
      ]
     },
     "execution_count": 8,
     "metadata": {},
     "output_type": "execute_result"
    }
   ],
   "source": [
    "my_data['gender'].count()"
   ]
  },
  {
   "cell_type": "code",
   "execution_count": 9,
   "metadata": {},
   "outputs": [
    {
     "data": {
      "text/plain": [
       "female     5725\n",
       "male       5469\n",
       "brand      4328\n",
       "unknown     702\n",
       "Name: gender, dtype: int64"
      ]
     },
     "execution_count": 9,
     "metadata": {},
     "output_type": "execute_result"
    }
   ],
   "source": [
    "my_data['gender'].value_counts(dropna=False) "
   ]
  },
  {
   "cell_type": "code",
   "execution_count": 10,
   "metadata": {},
   "outputs": [],
   "source": [
    "my_data = my_data[my_data.gender != 'unknown']"
   ]
  },
  {
   "cell_type": "code",
   "execution_count": 11,
   "metadata": {},
   "outputs": [
    {
     "data": {
      "text/plain": [
       "female    5725\n",
       "male      5469\n",
       "brand     4328\n",
       "Name: gender, dtype: int64"
      ]
     },
     "execution_count": 11,
     "metadata": {},
     "output_type": "execute_result"
    }
   ],
   "source": [
    "my_data['gender'].value_counts(dropna=False) "
   ]
  },
  {
   "cell_type": "code",
   "execution_count": 17,
   "metadata": {},
   "outputs": [
    {
     "data": {
      "text/plain": [
       "<matplotlib.axes._subplots.AxesSubplot at 0x18d3c1b82c8>"
      ]
     },
     "execution_count": 17,
     "metadata": {},
     "output_type": "execute_result"
    },
    {
     "data": {
      "image/png": "[encoded data removed]",
      "text/plain": [
       "<Figure size 432x288 with 1 Axes>"
      ]
     },
     "metadata": {
      "needs_background": "light"
     },
     "output_type": "display_data"
    }
   ],
   "source": [
    "# Count plot for gender after removing unknown and NA values\n",
    "sns.countplot(my_data['gender'],label=\"gender\")"
   ]
  },
  {
   "cell_type": "markdown",
   "metadata": {},
   "source": [
    "The above plot shows the frequency of gender after removing unknown and NA values."
   ]
  },
  {
   "cell_type": "code",
   "execution_count": 12,
   "metadata": {},
   "outputs": [
    {
     "data": {
      "text/html": [
       "<div>\n",
       "<style scoped>\n",
       "    .dataframe tbody tr th:only-of-type {\n",
       "        vertical-align: middle;\n",
       "    }\n",
       "\n",
       "    .dataframe tbody tr th {\n",
       "        vertical-align: top;\n",
       "    }\n",
       "\n",
       "    .dataframe thead th {\n",
       "        text-align: right;\n",
       "    }\n",
       "</style>\n",
       "<table border=\"1\" class=\"dataframe\">\n",
       "  <thead>\n",
       "    <tr style=\"text-align: right;\">\n",
       "      <th></th>\n",
       "      <th>gender</th>\n",
       "      <th>description</th>\n",
       "      <th>gender2</th>\n",
       "    </tr>\n",
       "  </thead>\n",
       "  <tbody>\n",
       "    <tr>\n",
       "      <th>0</th>\n",
       "      <td>male</td>\n",
       "      <td>i sing my own rhythm.</td>\n",
       "      <td>2</td>\n",
       "    </tr>\n",
       "    <tr>\n",
       "      <th>1</th>\n",
       "      <td>male</td>\n",
       "      <td>I'm the author of novels filled with family dr...</td>\n",
       "      <td>2</td>\n",
       "    </tr>\n",
       "    <tr>\n",
       "      <th>2</th>\n",
       "      <td>male</td>\n",
       "      <td>louis whining and squealing and all</td>\n",
       "      <td>2</td>\n",
       "    </tr>\n",
       "    <tr>\n",
       "      <th>3</th>\n",
       "      <td>male</td>\n",
       "      <td>Mobile guy.  49ers, Shazam, Google, Kleiner Pe...</td>\n",
       "      <td>2</td>\n",
       "    </tr>\n",
       "    <tr>\n",
       "      <th>4</th>\n",
       "      <td>female</td>\n",
       "      <td>Ricky Wilson The Best FRONTMAN/Kaiser Chiefs T...</td>\n",
       "      <td>1</td>\n",
       "    </tr>\n",
       "    <tr>\n",
       "      <th>5</th>\n",
       "      <td>female</td>\n",
       "      <td>you don't know me.</td>\n",
       "      <td>1</td>\n",
       "    </tr>\n",
       "    <tr>\n",
       "      <th>6</th>\n",
       "      <td>brand</td>\n",
       "      <td>A global marketplace for images, videos and mu...</td>\n",
       "      <td>0</td>\n",
       "    </tr>\n",
       "    <tr>\n",
       "      <th>7</th>\n",
       "      <td>male</td>\n",
       "      <td>The secret of getting ahead is getting started.</td>\n",
       "      <td>2</td>\n",
       "    </tr>\n",
       "    <tr>\n",
       "      <th>8</th>\n",
       "      <td>female</td>\n",
       "      <td>Pll Fan // Crazy about MCD // Ramen is bae</td>\n",
       "      <td>1</td>\n",
       "    </tr>\n",
       "    <tr>\n",
       "      <th>9</th>\n",
       "      <td>female</td>\n",
       "      <td>Renaissance art historian, University of Notti...</td>\n",
       "      <td>1</td>\n",
       "    </tr>\n",
       "  </tbody>\n",
       "</table>\n",
       "</div>"
      ],
      "text/plain": [
       "   gender                                        description  gender2\n",
       "0    male                              i sing my own rhythm.        2\n",
       "1    male  I'm the author of novels filled with family dr...        2\n",
       "2    male                louis whining and squealing and all        2\n",
       "3    male  Mobile guy.  49ers, Shazam, Google, Kleiner Pe...        2\n",
       "4  female  Ricky Wilson The Best FRONTMAN/Kaiser Chiefs T...        1\n",
       "5  female                                 you don't know me.        1\n",
       "6   brand  A global marketplace for images, videos and mu...        0\n",
       "7    male    The secret of getting ahead is getting started.        2\n",
       "8  female         Pll Fan // Crazy about MCD // Ramen is bae        1\n",
       "9  female  Renaissance art historian, University of Notti...        1"
      ]
     },
     "execution_count": 12,
     "metadata": {},
     "output_type": "execute_result"
    }
   ],
   "source": [
    "# convert gender feature to int\n",
    "# brand = 0, female = 1, male = 2\n",
    "\n",
    "my_data.gender = pd.Categorical(my_data.gender)\n",
    "my_data['gender2'] = my_data.gender.cat.codes\n",
    "my_data.head(10)"
   ]
  },
  {
   "cell_type": "code",
   "execution_count": 13,
   "metadata": {},
   "outputs": [],
   "source": [
    "# Lemmatizer (nltk library)\n",
    "lemma = nltk.WordNetLemmatizer() "
   ]
  },
  {
   "cell_type": "code",
   "execution_count": 14,
   "metadata": {},
   "outputs": [],
   "source": [
    "description_list = []\n",
    "for each in my_data.description:\n",
    "    \n",
    "    # Remove unnecessary characters from string\n",
    "    each = re.sub(\"[^a-zA-Z]\",\" \",each) \n",
    "    # Converting string to lower case\n",
    "    each = each.lower() \n",
    "    # Converting string to list\n",
    "    each = nltk.word_tokenize(each) \n",
    "    # Lemmatizing\n",
    "    each = [lemma.lemmatize(each) for each in each] \n",
    "    # Converting list to string\n",
    "    each = \" \".join(each) \n",
    "    # Append the data to list\n",
    "    description_list.append(each) "
   ]
  },
  {
   "cell_type": "code",
   "execution_count": 15,
   "metadata": {},
   "outputs": [
    {
     "data": {
      "text/plain": [
       "['i sing my own rhythm',\n",
       " 'i m the author of novel filled with family drama and romance',\n",
       " 'louis whining and squealing and all',\n",
       " 'mobile guy er shazam google kleiner perkins yahoo sprint pc airtouch air force stanford gsb uva dad husband brother golfer',\n",
       " 'ricky wilson the best frontman kaiser chief the best band xxxx thank you kaiser chief for an incredible year of gig and memory to cherish always xxxxxxx',\n",
       " 'you don t know me',\n",
       " 'a global marketplace for image video and music sharing photo inspiration design tip video for the creative community',\n",
       " 'the secret of getting ahead is getting started',\n",
       " 'pll fan crazy about mcd ramen is bae',\n",
       " 'renaissance art historian university of nottingham fuelled by haribo partial to coffee and with a soft spot for renaissance china national teaching fellow']"
      ]
     },
     "execution_count": 15,
     "metadata": {},
     "output_type": "execute_result"
    }
   ],
   "source": [
    "description_list[:10]"
   ]
  },
  {
   "cell_type": "code",
   "execution_count": 16,
   "metadata": {},
   "outputs": [],
   "source": [
    "# Create a bag of words\n",
    "\n",
    "# 1000 most used words in description\n",
    "cv = CountVectorizer(max_features=1000, stop_words='english')"
   ]
  },
  {
   "cell_type": "code",
   "execution_count": 17,
   "metadata": {},
   "outputs": [
    {
     "data": {
      "text/plain": [
       "array([[0, 0, 0, ..., 0, 0, 0],\n",
       "       [0, 0, 0, ..., 0, 0, 0],\n",
       "       [0, 0, 0, ..., 0, 0, 0],\n",
       "       ...,\n",
       "       [0, 0, 0, ..., 0, 0, 0],\n",
       "       [0, 0, 0, ..., 0, 0, 0],\n",
       "       [0, 0, 0, ..., 0, 0, 0]], dtype=int64)"
      ]
     },
     "execution_count": 17,
     "metadata": {},
     "output_type": "execute_result"
    }
   ],
   "source": [
    "# Construct a sparse matrix\n",
    "sparse_matrix = cv.fit_transform(description_list).toarray()\n",
    "sparse_matrix"
   ]
  },
  {
   "cell_type": "code",
   "execution_count": 18,
   "metadata": {},
   "outputs": [],
   "source": [
    "x = sparse_matrix\n",
    "y = my_data.gender2.values\n",
    "results = []\n",
    "\n",
    "# Split arrays into training and test\n",
    "x_train, x_test, y_train, y_test = train_test_split(x, y, random_state=1, test_size=0.2)"
   ]
  },
  {
   "cell_type": "markdown",
   "metadata": {},
   "source": [
    "# Naive Bayes Classification Algorithm"
   ]
  },
  {
   "cell_type": "code",
   "execution_count": 19,
   "metadata": {},
   "outputs": [
    {
     "name": "stdout",
     "output_type": "stream",
     "text": [
      "0.5619967793880838\n"
     ]
    }
   ],
   "source": [
    "# Naive Bayes Classification Algorithm\n",
    "from sklearn.naive_bayes import GaussianNB\n",
    "NBC = GaussianNB()\n",
    "NBC.fit(x_train,y_train)\n",
    "print(NBC.score(x_test,y_test))"
   ]
  },
  {
   "cell_type": "code",
   "execution_count": 20,
   "metadata": {},
   "outputs": [
    {
     "data": {
      "text/plain": [
       "[0.5619967793880838]"
      ]
     },
     "execution_count": 20,
     "metadata": {},
     "output_type": "execute_result"
    }
   ],
   "source": [
    "results.append(NBC.score(x_test,y_test))\n",
    "results"
   ]
  },
  {
   "cell_type": "markdown",
   "metadata": {},
   "source": [
    "# Logistic Regression Classification"
   ]
  },
  {
   "cell_type": "code",
   "execution_count": 21,
   "metadata": {},
   "outputs": [
    {
     "name": "stdout",
     "output_type": "stream",
     "text": [
      "0.5964573268921095\n"
     ]
    },
    {
     "name": "stderr",
     "output_type": "stream",
     "text": [
      "C:\\Users\\vedan\\anaconda3\\lib\\site-packages\\sklearn\\linear_model\\_logistic.py:940: ConvergenceWarning: lbfgs failed to converge (status=1):\n",
      "STOP: TOTAL NO. of ITERATIONS REACHED LIMIT.\n",
      "\n",
      "Increase the number of iterations (max_iter) or scale the data as shown in:\n",
      "    https://scikit-learn.org/stable/modules/preprocessing.html\n",
      "Please also refer to the documentation for alternative solver options:\n",
      "    https://scikit-learn.org/stable/modules/linear_model.html#logistic-regression\n",
      "  extra_warning_msg=_LOGISTIC_SOLVER_CONVERGENCE_MSG)\n"
     ]
    }
   ],
   "source": [
    "# Logistic Regression Classification\n",
    "from sklearn.linear_model import LogisticRegression\n",
    "LR = LogisticRegression()\n",
    "LR.fit(x_train,y_train)\n",
    "print(LR.score(x_test,y_test))"
   ]
  },
  {
   "cell_type": "code",
   "execution_count": 22,
   "metadata": {},
   "outputs": [
    {
     "data": {
      "text/plain": [
       "[0.5619967793880838, 0.5964573268921095]"
      ]
     },
     "execution_count": 22,
     "metadata": {},
     "output_type": "execute_result"
    }
   ],
   "source": [
    "results.append(LR.score(x_test,y_test))\n",
    "results"
   ]
  },
  {
   "cell_type": "code",
   "execution_count": null,
   "metadata": {},
   "outputs": [
    {
     "name": "stderr",
     "output_type": "stream",
     "text": [
      "[Parallel(n_jobs=-1)]: Using backend LokyBackend with 8 concurrent workers.\n"
     ]
    },
    {
     "name": "stdout",
     "output_type": "stream",
     "text": [
      "Fitting 10 folds for each of 6 candidates, totalling 60 fits\n"
     ]
    }
   ],
   "source": [
    "from sklearn.model_selection import GridSearchCV\n",
    "\n",
    "param_grid = {'penalty' : ['l1', 'l2'],\n",
    "#     'C' : np.logspace(-4, 4, 20),\n",
    "#     'solver' : ['lbfgs','newton-cg','sag','saga'],\n",
    "    'max_iter' : [100, 500, 1000]\n",
    "    }\n",
    "grid_search = GridSearchCV(estimator=LR, cv=10, param_grid=param_grid, verbose=True, n_jobs=-1)\n",
    "grid_search.fit(x_train,y_train)\n",
    "grid_search.best_params_"
   ]
  },
  {
   "cell_type": "code",
   "execution_count": 23,
   "metadata": {},
   "outputs": [
    {
     "name": "stdout",
     "output_type": "stream",
     "text": [
      "0.5971014492753624\n"
     ]
    }
   ],
   "source": [
    "LR_new = LogisticRegression(max_iter=500, penalty= 'l2', solver=\"lbfgs\")\n",
    "LR_new.fit(x_train,y_train)\n",
    "print(LR_new.score(x_test,y_test))"
   ]
  },
  {
   "cell_type": "code",
   "execution_count": 24,
   "metadata": {},
   "outputs": [
    {
     "data": {
      "text/plain": [
       "[0.5971014492753624]"
      ]
     },
     "execution_count": 24,
     "metadata": {},
     "output_type": "execute_result"
    }
   ],
   "source": [
    "accuracy_score_after_hyperparameter_tuning = []\n",
    "accuracy_score_after_hyperparameter_tuning.append(LR_new.score(x_test,y_test))\n",
    "accuracy_score_after_hyperparameter_tuning"
   ]
  },
  {
   "cell_type": "markdown",
   "metadata": {},
   "source": [
    "# Random Forest Classification"
   ]
  },
  {
   "cell_type": "code",
   "execution_count": 25,
   "metadata": {},
   "outputs": [
    {
     "name": "stdout",
     "output_type": "stream",
     "text": [
      "0.5768115942028985\n"
     ]
    }
   ],
   "source": [
    "# Random Forest Classification\n",
    "from sklearn.ensemble import RandomForestClassifier\n",
    "RFC = RandomForestClassifier()\n",
    "RFC.fit(x_train,y_train)\n",
    "print(RFC.score(x_test,y_test))"
   ]
  },
  {
   "cell_type": "code",
   "execution_count": 26,
   "metadata": {},
   "outputs": [
    {
     "data": {
      "text/plain": [
       "[0.5619967793880838, 0.5964573268921095, 0.5768115942028985]"
      ]
     },
     "execution_count": 26,
     "metadata": {},
     "output_type": "execute_result"
    }
   ],
   "source": [
    "results.append(RFC.score(x_test,y_test))\n",
    "results"
   ]
  },
  {
   "cell_type": "code",
   "execution_count": 27,
   "metadata": {
    "scrolled": true
   },
   "outputs": [
    {
     "name": "stdout",
     "output_type": "stream",
     "text": [
      "Fitting 10 folds for each of 24 candidates, totalling 240 fits\n"
     ]
    },
    {
     "name": "stderr",
     "output_type": "stream",
     "text": [
      "[Parallel(n_jobs=-1)]: Using backend LokyBackend with 8 concurrent workers.\n",
      "[Parallel(n_jobs=-1)]: Done  34 tasks      | elapsed:  1.3min\n",
      "[Parallel(n_jobs=-1)]: Done 184 tasks      | elapsed:  6.3min\n",
      "[Parallel(n_jobs=-1)]: Done 240 out of 240 | elapsed:  8.4min finished\n"
     ]
    },
    {
     "data": {
      "text/plain": [
       "{'min_samples_leaf': 2, 'min_samples_split': 2, 'n_estimators': 20}"
      ]
     },
     "execution_count": 27,
     "metadata": {},
     "output_type": "execute_result"
    }
   ],
   "source": [
    "from sklearn.model_selection import GridSearchCV\n",
    "param_grid = {'n_estimators':[2,5,10,20],'min_samples_split':[2,3], 'min_samples_leaf':[1,2,3]}\n",
    "grid_search = GridSearchCV(estimator=RFC, cv=10, param_grid=param_grid, verbose=True, n_jobs=-1)\n",
    "grid_search.fit(x_train,y_train)\n",
    "grid_search.best_params_"
   ]
  },
  {
   "cell_type": "code",
   "execution_count": 28,
   "metadata": {},
   "outputs": [
    {
     "name": "stdout",
     "output_type": "stream",
     "text": [
      "0.5848631239935588\n"
     ]
    }
   ],
   "source": [
    "RFC_new = RandomForestClassifier(min_samples_leaf= 2, min_samples_split= 2, n_estimators= 20)\n",
    "RFC_new.fit(x_train,y_train)\n",
    "print(RFC_new.score(x_test,y_test))"
   ]
  },
  {
   "cell_type": "code",
   "execution_count": 29,
   "metadata": {},
   "outputs": [
    {
     "data": {
      "text/plain": [
       "[0.5971014492753624, 0.5848631239935588]"
      ]
     },
     "execution_count": 29,
     "metadata": {},
     "output_type": "execute_result"
    }
   ],
   "source": [
    "accuracy_score_after_hyperparameter_tuning.append(RFC_new.score(x_test,y_test))\n",
    "accuracy_score_after_hyperparameter_tuning"
   ]
  },
  {
   "cell_type": "markdown",
   "metadata": {},
   "source": [
    "# Linear Support Vector Classification"
   ]
  },
  {
   "cell_type": "code",
   "execution_count": 30,
   "metadata": {},
   "outputs": [
    {
     "name": "stdout",
     "output_type": "stream",
     "text": [
      "0.592914653784219\n"
     ]
    }
   ],
   "source": [
    "# Linear Support Vector Classification\n",
    "from sklearn.svm import LinearSVC, SVC\n",
    "SVM_Model = LinearSVC()\n",
    "SVM_Model.fit(x_train,y_train)\n",
    "print(SVM_Model.score(x_test,y_test))"
   ]
  },
  {
   "cell_type": "code",
   "execution_count": 31,
   "metadata": {},
   "outputs": [
    {
     "data": {
      "text/plain": [
       "[0.5619967793880838, 0.5964573268921095, 0.5768115942028985, 0.592914653784219]"
      ]
     },
     "execution_count": 31,
     "metadata": {},
     "output_type": "execute_result"
    }
   ],
   "source": [
    "results.append(SVM_Model.score(x_test,y_test))\n",
    "results"
   ]
  },
  {
   "cell_type": "markdown",
   "metadata": {},
   "source": [
    "# Naive Bayes classifier for multinomial models"
   ]
  },
  {
   "cell_type": "code",
   "execution_count": 32,
   "metadata": {},
   "outputs": [
    {
     "name": "stdout",
     "output_type": "stream",
     "text": [
      "0.6038647342995169\n"
     ]
    }
   ],
   "source": [
    "# Naive Bayes classifier for multinomial models\n",
    "from sklearn.naive_bayes import MultinomialNB\n",
    "MNB_Model = MultinomialNB()\n",
    "MNB_Model.fit(x_train,y_train)\n",
    "print(MNB_Model.score(x_test,y_test))"
   ]
  },
  {
   "cell_type": "code",
   "execution_count": 33,
   "metadata": {},
   "outputs": [
    {
     "data": {
      "text/plain": [
       "[0.5619967793880838,\n",
       " 0.5964573268921095,\n",
       " 0.5768115942028985,\n",
       " 0.592914653784219,\n",
       " 0.6038647342995169]"
      ]
     },
     "execution_count": 33,
     "metadata": {},
     "output_type": "execute_result"
    }
   ],
   "source": [
    "results.append(MNB_Model.score(x_test,y_test))\n",
    "results"
   ]
  },
  {
   "cell_type": "code",
   "execution_count": 34,
   "metadata": {},
   "outputs": [
    {
     "name": "stdout",
     "output_type": "stream",
     "text": [
      "Fitting 3 folds for each of 4 candidates, totalling 12 fits\n"
     ]
    },
    {
     "name": "stderr",
     "output_type": "stream",
     "text": [
      "[Parallel(n_jobs=-1)]: Using backend LokyBackend with 8 concurrent workers.\n",
      "[Parallel(n_jobs=-1)]: Done  10 out of  12 | elapsed:    1.2s remaining:    0.2s\n",
      "[Parallel(n_jobs=-1)]: Done  12 out of  12 | elapsed:    1.2s finished\n"
     ]
    },
    {
     "data": {
      "text/plain": [
       "{'alpha': 1, 'class_prior': None, 'fit_prior': True}"
      ]
     },
     "execution_count": 34,
     "metadata": {},
     "output_type": "execute_result"
    }
   ],
   "source": [
    "from sklearn.model_selection import GridSearchCV\n",
    "param_grid = {'alpha':[0,1], 'class_prior':[None], 'fit_prior':[True, False]}\n",
    "grid_search = GridSearchCV(estimator=MNB_Model, cv=3, param_grid=param_grid, verbose=True, n_jobs=-1)\n",
    "grid_search.fit(x_train,y_train)\n",
    "grid_search.best_params_"
   ]
  },
  {
   "cell_type": "code",
   "execution_count": 35,
   "metadata": {},
   "outputs": [
    {
     "name": "stdout",
     "output_type": "stream",
     "text": [
      "0.6038647342995169\n"
     ]
    }
   ],
   "source": [
    "from sklearn.naive_bayes import MultinomialNB\n",
    "MNB_Model_new = MultinomialNB(alpha=1, class_prior=None, fit_prior=True)\n",
    "MNB_Model_new.fit(x_train,y_train)\n",
    "print(MNB_Model_new.score(x_test,y_test))"
   ]
  },
  {
   "cell_type": "code",
   "execution_count": 36,
   "metadata": {},
   "outputs": [
    {
     "data": {
      "text/plain": [
       "[0.5971014492753624, 0.5848631239935588, 0.6038647342995169]"
      ]
     },
     "execution_count": 36,
     "metadata": {},
     "output_type": "execute_result"
    }
   ],
   "source": [
    "accuracy_score_after_hyperparameter_tuning.append(MNB_Model_new.score(x_test,y_test))\n",
    "accuracy_score_after_hyperparameter_tuning"
   ]
  },
  {
   "cell_type": "markdown",
   "metadata": {},
   "source": [
    "# Results"
   ]
  },
  {
   "cell_type": "code",
   "execution_count": 37,
   "metadata": {},
   "outputs": [
    {
     "data": {
      "text/plain": [
       "Text(0.5, 1.0, 'Barplot for accucracy score of models')"
      ]
     },
     "execution_count": 37,
     "metadata": {},
     "output_type": "execute_result"
    },
    {
     "data": {
      "image/png": "[encoded data removed]",
      "text/plain": [
       "<Figure size 432x288 with 1 Axes>"
      ]
     },
     "metadata": {
      "needs_background": "light"
     },
     "output_type": "display_data"
    }
   ],
   "source": [
    "# Barplot before hyperparameter tuning\n",
    "import matplotlib.pyplot as plt\n",
    "models = ['GaussianNB', 'Logistic Regression', 'Random Forest', 'LinearSVC', 'MultinomialNB']\n",
    "percentage_accuracy = [element * 100 for element in results]\n",
    "plt.bar(models,percentage_accuracy)\n",
    "plt.xticks(rotation=45)\n",
    "plt.yticks(np.arange(0,100, 10))\n",
    "plt.title('Barplot for accucracy score of models')"
   ]
  },
  {
   "cell_type": "markdown",
   "metadata": {},
   "source": [
    "The accuracy score of the classification models used in the study is seen in the graph above. GaussianNB, Logistic Regression, Random Forest Classification, Linear Support Vector Classification, and Naive Bayes classifiers for multinomial models have percentage accuracy scores of 56.19, 59.64, 58.51, 59.29, and 60.38 respectively. MultinomialNB model shows the highest accuracy of 60.38%"
   ]
  },
  {
   "cell_type": "code",
   "execution_count": 38,
   "metadata": {},
   "outputs": [
    {
     "data": {
      "text/plain": [
       "Text(0.5, 1.0, 'Barplot for accucracy score of models after hyperparameter tuning')"
      ]
     },
     "execution_count": 38,
     "metadata": {},
     "output_type": "execute_result"
    },
    {
     "data": {
      "image/png": "[encoded data removed]",
      "text/plain": [
       "<Figure size 432x288 with 1 Axes>"
      ]
     },
     "metadata": {
      "needs_background": "light"
     },
     "output_type": "display_data"
    }
   ],
   "source": [
    "# Barplot after hyperparameter tuning\n",
    "import matplotlib.pyplot as plt\n",
    "models = ['Logistic Regression', 'Random Forest', 'MultinomialNB']\n",
    "accuracy_score_after_hyperparameter_tuning_percentage = [element * 100 for element in accuracy_score_after_hyperparameter_tuning]\n",
    "plt.bar(models,accuracy_score_after_hyperparameter_tuning_percentage)\n",
    "plt.xticks(rotation=45)\n",
    "plt.yticks(np.arange(0,100, 10))\n",
    "plt.title('Barplot for accucracy score of models after hyperparameter tuning')"
   ]
  },
  {
   "cell_type": "markdown",
   "metadata": {},
   "source": [
    "Models were optimized using hyperparameter tuning after they were built with default parameters. I optimized Logistic Regression, Random Forest Classification, and Naive Bayes classifiers for multinomial models with 10-fold cross validation using GridSearchCV method. \n",
    "Their accuracy percentages are 59.71, 58.51, and 60.38, respectively. \n",
    "The same is shown in the bar above graph."
   ]
  },
  {
   "cell_type": "markdown",
   "metadata": {},
   "source": [
    "# Conclusion"
   ]
  },
  {
   "cell_type": "markdown",
   "metadata": {},
   "source": [
    "Different classification models were developed in this analysis, and each model yielded a different accuracy score. Logistic Regression, Random Forest, and MultinomialNB were all used to perform hyperparameter optimization. And I've come to the conclusion that MultinomialNB is the better model, with a 60.38 percent accuracy. I'd also like to point out that even after hyperparameter tuning and 10-fold cross-validation, the best parameters are the same as the default parameter."
   ]
  }
 ],
 "metadata": {
  "kernelspec": {
   "display_name": "Python 3",
   "language": "python",
   "name": "python3"
  },
  "language_info": {
   "codemirror_mode": {
    "name": "ipython",
    "version": 3
   },
   "file_extension": ".py",
   "mimetype": "text/x-python",
   "name": "python",
   "nbconvert_exporter": "python",
   "pygments_lexer": "ipython3",
   "version": "3.7.6"
  }
 },
 "nbformat": 4,
 "nbformat_minor": 4
}
